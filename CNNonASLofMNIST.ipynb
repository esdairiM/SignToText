{
 "cells": [
  {
   "cell_type": "markdown",
   "metadata": {},
   "source": [
    "# Sign Language Reconition (MNIST Dataset) using Convolutional Neural Networks\n",
    "\n",
    "## introduction\n",
    "\n",
    "in this brief presentation we will show you how we created a small CNN, for sign language recognition from MNIST ASL dataset, this model has achievied an accuracy of 92.95% on new unseen data from the test test."
   ]
  },
  {
   "cell_type": "markdown",
   "metadata": {},
   "source": [
    "## let's import the required liberaries\n",
    "in this machine learning demo we will use the Keras deeplearning framework, since it offers greate open source implementations for deeplearning concepts and it helps with prototyping and iterating over several DL models"
   ]
  },
  {
   "cell_type": "code",
   "execution_count": 71,
   "metadata": {},
   "outputs": [],
   "source": [
    "import numpy as np\n",
    "import tensorflow as tf\n",
    "import pandas as pd\n",
    "from tensorflow.python.keras.layers import Input, Dropout, Conv2D, MaxPooling2D, BatchNormalization, Dense, Activation, Flatten\n",
    "from tensorflow.python.keras.models import Model, model_from_json\n",
    "from tensorflow.python.keras.utils import to_categorical\n",
    "\n",
    "\n",
    "\n",
    "import matplotlib.pyplot as plt\n",
    "import matplotlib.image as mpimg"
   ]
  },
  {
   "cell_type": "markdown",
   "metadata": {},
   "source": []
  },
  {
   "cell_type": "code",
   "execution_count": 72,
   "metadata": {},
   "outputs": [],
   "source": [
    "def load_data(dataset):\n",
    "    \n",
    "    #read the file and load it into a dataframe\n",
    "    df= pd.read_csv(dataset)\n",
    "    \n",
    "    #getting the dimensions of the data\n",
    "    size= df.shape[0]\n",
    "    number_of_features = df.shape[1]\n",
    "    \n",
    "    #spliting the features and the labels\n",
    "    x = np.array(df.iloc[:, 1:])\n",
    "    y = np.array(df.iloc[:, 0])\n",
    "    \n",
    "    \n",
    "    dataset_info = dict()\n",
    "    dataset_info[\"size\"] = size\n",
    "    dataset_info[\"number_of_features\"] = number_of_features\n",
    "   \n",
    "    return (x, y, dataset_info)\n",
    "    "
   ]
  },
  {
   "cell_type": "code",
   "execution_count": 73,
   "metadata": {},
   "outputs": [],
   "source": [
    "def transform_data(x, y):\n",
    "    \n",
    "    size_set = x.shape[0]\n",
    "    #create a placeholder for the new data \n",
    "    X_data = np.empty((size_set,28,28))\n",
    "    \n",
    "    #retrieve each line from the csv file and turn it into an image\n",
    "    for i in range(size_set):\n",
    "        X_data[i,:,:]=x[i,:].reshape(28,28)\n",
    "    \n",
    "    #reshaping the training data \n",
    "    X_data = X_data.reshape(size_set,28,28,1)\n",
    "    \n",
    "    #turn each element in y into a one hot vector\n",
    "    Y_data = to_categorical(y)\n",
    "    \n",
    "    return (X_data, Y_data)\n",
    "    "
   ]
  },
  {
   "cell_type": "code",
   "execution_count": 74,
   "metadata": {},
   "outputs": [],
   "source": [
    "def build_model(input_shape):\n",
    "   \n",
    "    # Define the input placeholder as a tensor with shape input_shape. Think of this as your input image!\n",
    "    X_input = Input(input_shape)\n",
    "\n",
    "\n",
    "    # CONV -> BN -> RELU Block applied to X\n",
    "    X = Conv2D(10, (7, 7), strides = (1, 1), name = 'conv0', padding='same')(X_input)\n",
    "    X = BatchNormalization(axis = 3, name = 'bn0')(X)\n",
    "    X = Activation('relu')(X)\n",
    "    X = MaxPooling2D((2, 2), strides=(2,2), name='max_pool0')(X)\n",
    "    X = Dropout(0.4)(X)\n",
    "    \n",
    "    # CONV -> BN -> RELU Block applied to X\n",
    "    X = Conv2D(7, (5, 5), strides = (1, 1), name = 'conv1', padding='valid')(X)\n",
    "    X = BatchNormalization(axis = 3, name = 'bn1')(X)\n",
    "    X = Activation('relu')(X)\n",
    "    X = MaxPooling2D((2, 2), strides=(2,2), name='max_pool1')(X)\n",
    "    X = Dropout(0.3)(X)\n",
    "    \n",
    "    # FLATTEN X  + FULLYCONNECTED\n",
    "    X = Flatten()(X)\n",
    "    X = Dense(25, activation='softmax', name='output')(X)\n",
    "\n",
    "    # Create model. This creates your Keras model instance, you'll use this instance to train/test the model.\n",
    "    model = Model(inputs = X_input, outputs = X, name='CNNclassifier')\n",
    "\n",
    "    return model"
   ]
  },
  {
   "cell_type": "code",
   "execution_count": 75,
   "metadata": {},
   "outputs": [],
   "source": [
    "def plot_training_process(history):\n",
    "    # summarize history for accuracy\n",
    "    plt.plot(history.history['acc'])\n",
    "    plt.plot(history.history['val_acc'])\n",
    "    plt.title('model accuracy')\n",
    "    plt.ylabel('accuracy')\n",
    "    plt.xlabel('epoch')\n",
    "    plt.legend(['train', 'validation'], loc='upper left')\n",
    "    plt.show()\n",
    "    # summarize history for loss\n",
    "    plt.plot(history.history['loss'])\n",
    "    plt.plot(history.history['val_loss'])\n",
    "    plt.title('model loss')\n",
    "    plt.ylabel('loss')\n",
    "    plt.xlabel('epoch')\n",
    "    plt.legend(['train', 'validation'], loc='upper left')\n",
    "    plt.show()\n",
    "    "
   ]
  },
  {
   "cell_type": "code",
   "execution_count": 76,
   "metadata": {},
   "outputs": [],
   "source": [
    "def save_model_to_disk(model, name):\n",
    "    model_json = model.to_json()\n",
    "    with open(name + \"_model.json\", \"w\") as json_file:\n",
    "        json_file.write(model_json)\n",
    "    # serialize weights to HDF5\n",
    "    model.save_weights(name + \"_model.h5\")\n",
    "    print(\"Model saved to disk: success\")"
   ]
  },
  {
   "cell_type": "code",
   "execution_count": 77,
   "metadata": {},
   "outputs": [],
   "source": [
    "def load_model_from_disk(name):\n",
    "    json_file = open(name + \"_model.json\", 'r')\n",
    "    loaded_model_json = json_file.read()\n",
    "    json_file.close()\n",
    "    loaded_model = model_from_json(loaded_model_json)\n",
    "    # load weights into new model\n",
    "    loaded_model.load_weights(name + \"_model.h5\")\n",
    "    loaded_model.compile(optimizer=\"adam\", loss='categorical_crossentropy', metrics=[\"accuracy\"])\n",
    "    print(\"Model loaded from disk: success\")\n",
    "    \n",
    "    return loaded_model"
   ]
  },
  {
   "cell_type": "code",
   "execution_count": 78,
   "metadata": {},
   "outputs": [],
   "source": [
    "def create_alphabet_mapping():\n",
    "    \n",
    "    alphabet = list()\n",
    "    for letter in range(97,122):\n",
    "        alphabet.append(chr(letter))\n",
    "        \n",
    "    return alphabet\n",
    "    "
   ]
  },
  {
   "cell_type": "code",
   "execution_count": 122,
   "metadata": {},
   "outputs": [],
   "source": [
    "def predict_letter(image, model):\n",
    "    \n",
    "    image = image.reshape(1,28,28,1)\n",
    "    predicted_vector = model.predict(image)\n",
    "    max_prob_idx = np.argsort(predicted_vector)\n",
    "    letter_mapping = create_alphabet_mapping()\n",
    "    max_prob_idx = np.flip(max_prob_idx, axis=1)\n",
    "    first = letter_mapping[max_prob_idx[0,0]]\n",
    "    second = letter_mapping[max_prob_idx[0,1]]\n",
    "    third = letter_mapping [max_prob_idx[0,2]]\n",
    "    \n",
    "    return {\"first\": first, \"second\": second, \"third\": third}"
   ]
  },
  {
   "cell_type": "code",
   "execution_count": 80,
   "metadata": {},
   "outputs": [],
   "source": [
    "def configure_data_augmentation():\n",
    "    datagen = ImageDataGenerator(\n",
    "        rotation_range=20,\n",
    "        width_shift_range=0.1,\n",
    "        height_shift_range=0.1,\n",
    "        shear_range=15,\n",
    "        zoom_range=0.2,\n",
    "        horizontal_flip=True,\n",
    "        fill_mode='nearest',\n",
    "        )\n",
    "    return datagen"
   ]
  },
  {
   "cell_type": "code",
   "execution_count": 81,
   "metadata": {},
   "outputs": [],
   "source": [
    "def fit_on_augmented_data(model, datagen, X_train, Y_train, epochs, batch_size):\n",
    "    history = model.fit_generator(datagen.flow(X_train, Y_train, batch_size=batch_size),\n",
    "                    steps_per_epoch=4*len(X_train)/batch_size, epochs=epochs)\n",
    "\n",
    "    return (model, history)"
   ]
  },
  {
   "cell_type": "code",
   "execution_count": 82,
   "metadata": {},
   "outputs": [],
   "source": [
    "#getting the training and test data\n",
    "(X_train, Y_train, info_train) = load_data('sign_mnist_train.csv')\n",
    "(X_test, Y_test, info_test) = load_data('sign_mnist_test.csv')\n",
    "\n",
    "#transforming the data \n",
    "(X_train, Y_train) = transform_data(X_train, Y_train)\n",
    "(X_test, Y_test) = transform_data(X_test, Y_test)\n",
    "\n",
    "#printing the data information"
   ]
  },
  {
   "cell_type": "code",
   "execution_count": 83,
   "metadata": {},
   "outputs": [
    {
     "name": "stdout",
     "output_type": "stream",
     "text": [
      "training set inforamtion:\n",
      "{'size': 27455, 'number_of_features': 785}\n",
      "test set inforamtion:\n",
      "{'size': 7172, 'number_of_features': 785}\n"
     ]
    }
   ],
   "source": [
    "print(\"training set inforamtion:\")\n",
    "print(info_train)\n",
    "print(\"test set inforamtion:\")\n",
    "print(info_test)"
   ]
  },
  {
   "cell_type": "code",
   "execution_count": 84,
   "metadata": {},
   "outputs": [],
   "source": [
    "model = build_model((28,28,1))\n",
    "model.compile(optimizer=\"adam\", loss='categorical_crossentropy', metrics=[\"accuracy\"])"
   ]
  },
  {
   "cell_type": "code",
   "execution_count": 85,
   "metadata": {},
   "outputs": [
    {
     "name": "stdout",
     "output_type": "stream",
     "text": [
      "Train on 21964 samples, validate on 5491 samples\n",
      "Epoch 1/30\n",
      "21964/21964 [==============================] - 23s 1ms/step - loss: 2.8447 - acc: 0.1847 - val_loss: 2.0038 - val_acc: 0.3790\n",
      "Epoch 2/30\n",
      "21964/21964 [==============================] - 22s 990us/step - loss: 1.6798 - acc: 0.4748 - val_loss: 1.0724 - val_acc: 0.7068\n",
      "Epoch 3/30\n",
      "21964/21964 [==============================] - 22s 980us/step - loss: 1.1174 - acc: 0.6427 - val_loss: 0.7264 - val_acc: 0.7907\n",
      "Epoch 4/30\n",
      "21964/21964 [==============================] - 24s 1ms/step - loss: 0.8459 - acc: 0.7264 - val_loss: 0.5406 - val_acc: 0.8527\n",
      "Epoch 5/30\n",
      "21964/21964 [==============================] - 22s 979us/step - loss: 0.6774 - acc: 0.7809 - val_loss: 0.3793 - val_acc: 0.9064\n",
      "Epoch 6/30\n",
      "21964/21964 [==============================] - 21s 960us/step - loss: 0.5615 - acc: 0.8177 - val_loss: 0.3580 - val_acc: 0.9093\n",
      "Epoch 7/30\n",
      "21964/21964 [==============================] - 21s 958us/step - loss: 0.4866 - acc: 0.8395 - val_loss: 0.2444 - val_acc: 0.9499\n",
      "Epoch 8/30\n",
      "21964/21964 [==============================] - 21s 977us/step - loss: 0.4300 - acc: 0.8605 - val_loss: 0.3159 - val_acc: 0.9027\n",
      "Epoch 9/30\n",
      "21964/21964 [==============================] - 22s 1ms/step - loss: 0.3939 - acc: 0.8694 - val_loss: 0.2413 - val_acc: 0.9355\n",
      "Epoch 10/30\n",
      "21964/21964 [==============================] - 22s 1ms/step - loss: 0.3438 - acc: 0.8861 - val_loss: 0.1755 - val_acc: 0.9577\n",
      "Epoch 11/30\n",
      "21964/21964 [==============================] - 22s 1ms/step - loss: 0.3295 - acc: 0.8894 - val_loss: 0.1388 - val_acc: 0.9752\n",
      "Epoch 12/30\n",
      "21964/21964 [==============================] - 22s 1ms/step - loss: 0.3002 - acc: 0.8999 - val_loss: 0.5246 - val_acc: 0.8223\n",
      "Epoch 13/30\n",
      "21964/21964 [==============================] - 22s 1ms/step - loss: 0.2829 - acc: 0.9034 - val_loss: 0.1906 - val_acc: 0.9519\n",
      "Epoch 14/30\n",
      "21964/21964 [==============================] - 22s 1ms/step - loss: 0.2664 - acc: 0.9106 - val_loss: 0.1636 - val_acc: 0.9590\n",
      "Epoch 15/30\n",
      "21964/21964 [==============================] - 22s 1ms/step - loss: 0.2516 - acc: 0.9166 - val_loss: 0.0858 - val_acc: 0.9887\n",
      "Epoch 16/30\n",
      "21964/21964 [==============================] - 23s 1ms/step - loss: 0.2364 - acc: 0.9208 - val_loss: 0.0689 - val_acc: 0.9962\n",
      "Epoch 17/30\n",
      "21964/21964 [==============================] - 22s 1ms/step - loss: 0.2252 - acc: 0.9255 - val_loss: 0.0513 - val_acc: 0.9922\n",
      "Epoch 18/30\n",
      "21964/21964 [==============================] - 23s 1ms/step - loss: 0.2160 - acc: 0.9291 - val_loss: 0.0799 - val_acc: 0.9936\n",
      "Epoch 19/30\n",
      "21964/21964 [==============================] - 22s 1ms/step - loss: 0.2039 - acc: 0.9319 - val_loss: 0.0595 - val_acc: 0.9949\n",
      "Epoch 20/30\n",
      "21964/21964 [==============================] - 22s 1ms/step - loss: 0.1954 - acc: 0.9364 - val_loss: 0.1033 - val_acc: 0.9721\n",
      "Epoch 21/30\n",
      "21964/21964 [==============================] - 22s 984us/step - loss: 0.1954 - acc: 0.9365 - val_loss: 0.0420 - val_acc: 0.9991\n",
      "Epoch 22/30\n",
      "21964/21964 [==============================] - 22s 1ms/step - loss: 0.1869 - acc: 0.9391 - val_loss: 0.0557 - val_acc: 0.9909\n",
      "Epoch 23/30\n",
      "21964/21964 [==============================] - 23s 1ms/step - loss: 0.1851 - acc: 0.9394 - val_loss: 0.0908 - val_acc: 0.9898\n",
      "Epoch 24/30\n",
      "21964/21964 [==============================] - 22s 1ms/step - loss: 0.1861 - acc: 0.9366 - val_loss: 0.0473 - val_acc: 0.9971\n",
      "Epoch 25/30\n",
      "21964/21964 [==============================] - 24s 1ms/step - loss: 0.1781 - acc: 0.9394 - val_loss: 0.1425 - val_acc: 0.9579\n",
      "Epoch 26/30\n",
      "21964/21964 [==============================] - 23s 1ms/step - loss: 0.1676 - acc: 0.9437 - val_loss: 0.0461 - val_acc: 0.9940\n",
      "Epoch 27/30\n",
      "21964/21964 [==============================] - 22s 1ms/step - loss: 0.1658 - acc: 0.9443 - val_loss: 0.0657 - val_acc: 0.9900\n",
      "Epoch 28/30\n",
      "21964/21964 [==============================] - 22s 983us/step - loss: 0.1636 - acc: 0.9460 - val_loss: 0.0406 - val_acc: 0.9953\n",
      "Epoch 29/30\n",
      "21964/21964 [==============================] - 22s 1ms/step - loss: 0.1635 - acc: 0.9452 - val_loss: 0.0764 - val_acc: 0.9862\n",
      "Epoch 30/30\n",
      "21964/21964 [==============================] - 22s 994us/step - loss: 0.1511 - acc: 0.9493 - val_loss: 0.0772 - val_acc: 0.9791\n"
     ]
    }
   ],
   "source": [
    "history = model.fit(X_train, Y_train, epochs=30, batch_size=128, validation_split=0.2, shuffle=True)"
   ]
  },
  {
   "cell_type": "code",
   "execution_count": 86,
   "metadata": {},
   "outputs": [
    {
     "data": {
      "image/png": "[encoded data removed]",
      "text/plain": [
       "<Figure size 432x288 with 1 Axes>"
      ]
     },
     "metadata": {},
     "output_type": "display_data"
    },
    {
     "data": {
      "image/png": "[encoded data removed]",
      "text/plain": [
       "<Figure size 432x288 with 1 Axes>"
      ]
     },
     "metadata": {},
     "output_type": "display_data"
    }
   ],
   "source": [
    "plot_training_process(history)"
   ]
  },
  {
   "cell_type": "code",
   "execution_count": 87,
   "metadata": {},
   "outputs": [
    {
     "name": "stdout",
     "output_type": "stream",
     "text": [
      "7172/7172 [==============================] - 3s 353us/step\n"
     ]
    }
   ],
   "source": [
    "evaluation = model.evaluate(X_test, Y_test)\n"
   ]
  },
  {
   "cell_type": "code",
   "execution_count": 88,
   "metadata": {},
   "outputs": [
    {
     "name": "stdout",
     "output_type": "stream",
     "text": [
      "[0.22241969553912677, 0.9220580033463469]\n"
     ]
    }
   ],
   "source": [
    "print(evaluation)"
   ]
  },
  {
   "cell_type": "code",
   "execution_count": null,
   "metadata": {},
   "outputs": [],
   "source": [
    "model.summary()"
   ]
  },
  {
   "cell_type": "code",
   "execution_count": 89,
   "metadata": {},
   "outputs": [
    {
     "name": "stdout",
     "output_type": "stream",
     "text": [
      "Model saved to disk: success\n"
     ]
    }
   ],
   "source": [
    "save_model_to_disk(model, \"10x7p7x5x30ep\")"
   ]
  },
  {
   "cell_type": "code",
   "execution_count": 91,
   "metadata": {},
   "outputs": [
    {
     "name": "stdout",
     "output_type": "stream",
     "text": [
      "Model loaded from disk: success\n",
      "Model loaded from disk: success\n",
      "Model loaded from disk: success\n",
      "Model loaded from disk: success\n"
     ]
    }
   ],
   "source": [
    "m10x7p7x5_model = load_model_from_disk(\"10x7p7x5\")\n",
    "m10x7p7x5x20ep_model = load_model_from_disk(\"10x7p7x5x20ep\")\n",
    "m10x7p7x5x20epV2_model = load_model_from_disk(\"10x7p7x5x20epV2\")\n",
    "m10x7p7x5x30ep_model = load_model_from_disk(\"10x7p7x5x30ep\")"
   ]
  },
  {
   "cell_type": "code",
   "execution_count": 93,
   "metadata": {},
   "outputs": [
    {
     "name": "stdout",
     "output_type": "stream",
     "text": [
      "7172/7172 [==============================] - 3s 356us/step\n",
      "7172/7172 [==============================] - 3s 350us/step\n",
      "7172/7172 [==============================] - 3s 357us/step\n",
      "7172/7172 [==============================] - 3s 367us/step\n"
     ]
    }
   ],
   "source": [
    "evm1 = m10x7p7x5_model.evaluate(X_test, Y_test)\n",
    "evm2 = m10x7p7x5x20ep_model.evaluate(X_test, Y_test)\n",
    "evm3 = m10x7p7x5x20epV2_model.evaluate(X_test, Y_test)\n",
    "evm4 = m10x7p7x5x30ep_model.evaluate(X_test, Y_test)"
   ]
  },
  {
   "cell_type": "code",
   "execution_count": 94,
   "metadata": {},
   "outputs": [
    {
     "name": "stdout",
     "output_type": "stream",
     "text": [
      "[0.4691280619731112, 0.836447295036252]\n",
      "[0.23089615357816384, 0.9295872838817624]\n",
      "[0.22700566636804623, 0.9187116564417178]\n",
      "[0.22241969553912677, 0.9220580033463469]\n"
     ]
    }
   ],
   "source": [
    "print(evm1)\n",
    "print(evm2)\n",
    "print(evm3)\n",
    "print(evm4)"
   ]
  },
  {
   "cell_type": "code",
   "execution_count": 117,
   "metadata": {},
   "outputs": [],
   "source": [
    "(Xb, Yb, info_test) = load_data('sign_mnist_test.csv')"
   ]
  },
  {
   "cell_type": "code",
   "execution_count": 96,
   "metadata": {},
   "outputs": [],
   "source": [
    "images, labels = transform_data(Xb, Yb)"
   ]
  },
  {
   "cell_type": "code",
   "execution_count": 123,
   "metadata": {},
   "outputs": [],
   "source": [
    "letter = predict_letter(Xb[0,:], m10x7p7x5x20ep_model)"
   ]
  },
  {
   "cell_type": "code",
   "execution_count": 124,
   "metadata": {},
   "outputs": [
    {
     "data": {
      "text/plain": [
       "{'first': 'g', 'second': 'h', 'third': 'l'}"
      ]
     },
     "execution_count": 124,
     "metadata": {},
     "output_type": "execute_result"
    }
   ],
   "source": [
    "letter"
   ]
  },
  {
   "cell_type": "code",
   "execution_count": 126,
   "metadata": {},
   "outputs": [
    {
     "data": {
      "text/plain": [
       "<matplotlib.image.AxesImage at 0x7fcc592fb278>"
      ]
     },
     "execution_count": 126,
     "metadata": {},
     "output_type": "execute_result"
    },
    {
     "data": {
      "image/png": "[encoded data removed]",
      "text/plain": [
       "<Figure size 432x288 with 1 Axes>"
      ]
     },
     "metadata": {},
     "output_type": "display_data"
    }
   ],
   "source": [
    "image = Xb[0,:].reshape((28,28))\n",
    "plt.imshow(image)"
   ]
  },
  {
   "cell_type": "code",
   "execution_count": null,
   "metadata": {},
   "outputs": [],
   "source": []
  }
 ],
 "metadata": {
  "kernelspec": {
   "display_name": "Python 3",
   "language": "python",
   "name": "python3"
  },
  "language_info": {
   "codemirror_mode": {
    "name": "ipython",
    "version": 3
   },
   "file_extension": ".py",
   "mimetype": "text/x-python",
   "name": "python",
   "nbconvert_exporter": "python",
   "pygments_lexer": "ipython3",
   "version": "3.6.4"
  },
  "toc": {
   "base_numbering": 1,
   "nav_menu": {},
   "number_sections": false,
   "sideBar": false,
   "skip_h1_title": false,
   "title_cell": "Table of Contents",
   "title_sidebar": "Contents",
   "toc_cell": false,
   "toc_position": {},
   "toc_section_display": false,
   "toc_window_display": false
  }
 },
 "nbformat": 4,
 "nbformat_minor": 2
}
